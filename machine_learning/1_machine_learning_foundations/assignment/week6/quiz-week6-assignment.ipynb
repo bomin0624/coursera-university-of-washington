{
 "cells": [
  {
   "cell_type": "markdown",
   "metadata": {},
   "source": [
    "# Deep features for image retrieval"
   ]
  },
  {
   "cell_type": "markdown",
   "metadata": {},
   "source": [
    "<img src=\"images/pic01.png\">\n",
    "<img src=\"images/pic02.png\">\n",
    "<img src=\"images/pic03.png\">\n",
    "<img src=\"images/pic04.png\">\n",
    "<img src=\"images/pic05.png\">\n",
    "<img src=\"images/pic06.png\">\n",
    "<img src=\"images/pic07.png\">\n",
    "\n",
    "*Screenshot taken from [Coursera](https://www.coursera.org/learn/ml-foundations/exam/Foi0I/deep-features-for-image-retrieval)*\n",
    "\n",
    "<!--TEASER_END-->"
   ]
  }
 ],
 "metadata": {
  "kernelspec": {
   "display_name": "Python 3",
   "language": "python",
   "name": "python3"
  },
  "language_info": {
   "codemirror_mode": {
    "name": "ipython",
    "version": 3
   },
   "file_extension": ".py",
   "mimetype": "text/x-python",
   "name": "python",
   "nbconvert_exporter": "python",
   "pygments_lexer": "ipython3",
   "version": "3.7.6"
  }
 },
 "nbformat": 4,
 "nbformat_minor": 1
}
